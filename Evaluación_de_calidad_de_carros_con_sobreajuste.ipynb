{
 "cells": [
  {
   "cell_type": "markdown",
   "id": "14fcda2a-f970-4f97-99f3-edbcaf894bf8",
   "metadata": {},
   "source": [
    "# PROYECTO 2 - MODELOS DE CLASIFICACIÓN SUPERVISADA PARA EVALUAR LA CALIDAD DE UN AUTOMÓVIL\n",
    "Evaluación de diferentes modelos de clasificación para predecir la calidad de un automóvil con el dataset 'car.data'.\n",
    "## Integrantes del grupo: Germán Macias y Mauricio Herrera  "
   ]
  },
  {
   "cell_type": "markdown",
   "id": "d75d7850-1484-422d-bafc-a21b4ef622b1",
   "metadata": {},
   "source": [
    "Este proyecto se centra en la evaluación de la calidad de los automóviles utilizando modelos de clasificación supervisada. El conjunto de datos utilizado proviene del repositorio de aprendizaje automatico de la UCI y contine información sobre las diferentes características de los automóviles y su evaluación de calidad. El objetivo es construir modelos que puedan predecir la calidad de un automóvil y basándose en sus caracteristicas."
   ]
  },
  {
   "cell_type": "markdown",
   "id": "a08cbe66-5f3a-42b1-b694-882185cffc1c",
   "metadata": {},
   "source": [
    "Se procede a cargar la base de datos car.data y analizar su estructura para determinar el número de variables, registros y sus tipos."
   ]
  },
  {
   "cell_type": "code",
   "execution_count": 4,
   "id": "757e5d15-d60e-482f-96c6-b9d4e69e8e44",
   "metadata": {},
   "outputs": [],
   "source": [
    "# Importar las librerias\n",
    "import pandas as pd"
   ]
  },
  {
   "cell_type": "markdown",
   "id": "ff86d622",
   "metadata": {},
   "source": [
    "## 1. Carga de Datos y Asignación de Columnas\n",
    "Cargamos el dataset `car.data` y asignamos nombres a las columnas para facilitar el análisis."
   ]
  },
  {
   "cell_type": "code",
   "execution_count": 6,
   "id": "7ef0bbac-c6f9-4094-a414-a04a9074329d",
   "metadata": {},
   "outputs": [],
   "source": [
    "# Cargar los datos\n",
    "data = pd.read_csv('car.data', header=None)"
   ]
  },
  {
   "cell_type": "code",
   "execution_count": 7,
   "id": "78d8bdf2-b89e-4117-b17c-18bb3110c898",
   "metadata": {},
   "outputs": [
    {
     "name": "stdout",
     "output_type": "stream",
     "text": [
      "       0      1  2  3      4     5      6\n",
      "0  vhigh  vhigh  2  2  small   low  unacc\n",
      "1  vhigh  vhigh  2  2  small   med  unacc\n",
      "2  vhigh  vhigh  2  2  small  high  unacc\n",
      "3  vhigh  vhigh  2  2    med   low  unacc\n",
      "4  vhigh  vhigh  2  2    med   med  unacc\n"
     ]
    }
   ],
   "source": [
    "# Visualizar las primeras filas para comprender la estructura\n",
    "print(data.head())"
   ]
  },
  {
   "cell_type": "code",
   "execution_count": 8,
   "id": "f032fcc1-e764-4003-b173-d03a3329c527",
   "metadata": {},
   "outputs": [
    {
     "name": "stdout",
     "output_type": "stream",
     "text": [
      "Número de variables: 7\n",
      "Número de registros: 1728\n"
     ]
    }
   ],
   "source": [
    "# Determinar el número de variables y registros\n",
    "dimensions = data.shape\n",
    "print('Número de variables:', dimensions[1])\n",
    "print('Número de registros:', dimensions[0])"
   ]
  },
  {
   "cell_type": "code",
   "execution_count": 9,
   "id": "44638835-c1f4-4326-bcdd-3def5694b2bc",
   "metadata": {},
   "outputs": [
    {
     "name": "stdout",
     "output_type": "stream",
     "text": [
      "Data types of each column: 0    object\n",
      "1    object\n",
      "2    object\n",
      "3    object\n",
      "4    object\n",
      "5    object\n",
      "6    object\n",
      "dtype: object\n"
     ]
    }
   ],
   "source": [
    "# Comprobar los tipos de datos de cada columna\n",
    "data_types = data.dtypes\n",
    "print('Data types of each column:', data_types)"
   ]
  },
  {
   "cell_type": "code",
   "execution_count": 10,
   "id": "4579a29e-39de-4037-98ed-e776a2e1c647",
   "metadata": {},
   "outputs": [
    {
     "name": "stdout",
     "output_type": "stream",
     "text": [
      "            0      1     2     3      4     5      6\n",
      "count    1728   1728  1728  1728   1728  1728   1728\n",
      "unique      4      4     4     3      3     3      4\n",
      "top     vhigh  vhigh     2     2  small   low  unacc\n",
      "freq      432    432   432   576    576   576   1210\n"
     ]
    }
   ],
   "source": [
    "# Resumir la información\n",
    "summary = data.describe(include='all')\n",
    "print(summary)"
   ]
  },
  {
   "cell_type": "markdown",
   "id": "c2f6a3cc-dc8f-4efd-ad96-54cb03271803",
   "metadata": {},
   "source": [
    "## 2. Preparación de Datos para Modelos de Clasificación\n"
   ]
  },
  {
   "cell_type": "code",
   "execution_count": 12,
   "id": "c9723bf7-54e5-49a7-8750-aac8f4c9393c",
   "metadata": {},
   "outputs": [],
   "source": [
    "# Asignar nombres de columna significativos y preparar los datos para la modelización\n",
    "import numpy as np\n",
    "from sklearn.model_selection import train_test_split\n",
    "from sklearn.preprocessing import LabelEncoder"
   ]
  },
  {
   "cell_type": "code",
   "execution_count": 13,
   "id": "33e8faea-aae0-4837-b6ec-33d616803c50",
   "metadata": {},
   "outputs": [],
   "source": [
    "# Asignar nombres a las columnas\n",
    "column_names = ['buying', 'maint', 'doors', 'persons', 'lug_boot', 'safety', 'class']\n",
    "data.columns = column_names"
   ]
  },
  {
   "cell_type": "code",
   "execution_count": 14,
   "id": "0996853d-53b9-4db0-b08b-e27708ccb294",
   "metadata": {},
   "outputs": [],
   "source": [
    "# Convertir variables categóricas en numéricas mediante LabelEncoder\n",
    "le = LabelEncoder()\n",
    "for column in data.columns:\n",
    "    data[column] = le.fit_transform(data[column])"
   ]
  },
  {
   "cell_type": "code",
   "execution_count": 15,
   "id": "4a5dea4c-ef4b-4da2-a811-907145f07869",
   "metadata": {},
   "outputs": [],
   "source": [
    "# Dividir las características y el objetivo\n",
    "X = data.drop('class', axis=1)\n",
    "y = data['class']"
   ]
  },
  {
   "cell_type": "code",
   "execution_count": 16,
   "id": "d15fb5f1-22d5-4a85-b328-d1932eb05953",
   "metadata": {},
   "outputs": [
    {
     "data": {
      "image/png": "[encoded data removed]",
      "text/plain": [
       "<Figure size 1200x800 with 9 Axes>"
      ]
     },
     "metadata": {},
     "output_type": "display_data"
    }
   ],
   "source": [
    "import matplotlib.pyplot as plt\n",
    "\n",
    "# Para variables cualitativas\n",
    "for column in data.select_dtypes(include='object').columns:\n",
    "    plt.figure(figsize=(8, 4))\n",
    "    data[column].value_counts().plot(kind='bar')\n",
    "    plt.title(f'Distribución de la variable {column}')\n",
    "    plt.xlabel(column)\n",
    "    plt.ylabel('Frecuencia')\n",
    "    plt.show()\n",
    "\n",
    "# Para variables numéricas\n",
    "data.select_dtypes(include='number').hist(bins=10, figsize=(12, 8))\n",
    "plt.suptitle('Distribución de variables numéricas')\n",
    "plt.show()\n"
   ]
  },
  {
   "cell_type": "code",
   "execution_count": 17,
   "id": "fd17353c-361b-4420-88a7-67da3c2f9b79",
   "metadata": {},
   "outputs": [
    {
     "data": {
      "image/png": "[encoded data removed]",
      "text/plain": [
       "<Figure size 800x400 with 1 Axes>"
      ]
     },
     "metadata": {},
     "output_type": "display_data"
    }
   ],
   "source": [
    "plt.figure(figsize=(8, 4))\n",
    "data['class'].value_counts().plot(kind='bar', color='skyblue')\n",
    "plt.title('Distribución de la variable objetivo (class)')\n",
    "plt.xlabel('Clase')\n",
    "plt.ylabel('Frecuencia')\n",
    "plt.show()\n"
   ]
  },
  {
   "cell_type": "markdown",
   "id": "9ffbde11",
   "metadata": {},
   "source": [
    "## 3. División de Datos en Entrenamiento y Prueba\n",
    "Dividimos los datos en conjuntos de entrenamiento y prueba para evaluar los modelos de clasificación."
   ]
  },
  {
   "cell_type": "code",
   "execution_count": 19,
   "id": "c7e14b41-41c5-435c-b783-b49231b8b3c0",
   "metadata": {},
   "outputs": [],
   "source": [
    "from sklearn.model_selection import train_test_split\n",
    "from sklearn.linear_model import LogisticRegression\n",
    "from sklearn.tree import DecisionTreeClassifier\n",
    "from sklearn.neighbors import KNeighborsClassifier\n",
    "\n",
    "# Suponiendo que tus datos están en X (características) e y (etiquetas)\n",
    "X_train, X_test, y_train, y_test = train_test_split(X, y, test_size=0.2, random_state=42)\n",
    "\n",
    "# Entrenar y predecir con Regresión Logística\n",
    "logreg = LogisticRegression()\n",
    "logreg.fit(X_train, y_train)\n",
    "y_pred_logreg = logreg.predict(X_test)\n",
    "\n",
    "# Entrenar y predecir con Árbol de Decisión\n",
    "tree = DecisionTreeClassifier()\n",
    "tree.fit(X_train, y_train)\n",
    "y_pred_tree = tree.predict(X_test)\n",
    "\n",
    "# Entrenar y predecir con K-Vecinos Más Cercanos\n",
    "knn = KNeighborsClassifier()\n",
    "knn.fit(X_train, y_train)\n",
    "y_pred_knn = knn.predict(X_test)\n"
   ]
  },
  {
   "cell_type": "code",
   "execution_count": 20,
   "id": "521a1e21-fb5a-4028-b800-fb91d25584f8",
   "metadata": {},
   "outputs": [
    {
     "name": "stdout",
     "output_type": "stream",
     "text": [
      "Forma del set de entrenamiento: (1382, 6)\n",
      "Forma del set de pruebas: (346, 6)\n"
     ]
    }
   ],
   "source": [
    "# Dividir los datos en sets de entrenamiento y de prueba\n",
    "X_train, X_test, y_train, y_test = train_test_split(X, y, test_size=0.2, random_state=42)\n",
    "\n",
    "print('Forma del set de entrenamiento:', X_train.shape)\n",
    "print('Forma del set de pruebas:', X_test.shape)"
   ]
  },
  {
   "cell_type": "markdown",
   "id": "3dfa7237",
   "metadata": {},
   "source": [
    "## 4. Entrenamiento de Modelos\n",
    "Entrenamos tres modelos de clasificación: Regresión Logística, Árbol de Decisión y KNN."
   ]
  },
  {
   "cell_type": "code",
   "execution_count": 22,
   "id": "04712a13-6390-48d9-8a73-47ca4504ea25",
   "metadata": {},
   "outputs": [],
   "source": [
    "# Importar librerias para aplicar múltiples modelos de clasificación y evaluar su rendimiento\n",
    "from sklearn.tree import DecisionTreeClassifier\n",
    "from sklearn.ensemble import RandomForestClassifier\n",
    "from sklearn.svm import SVC\n",
    "from sklearn.metrics import classification_report\n",
    "from sklearn.neighbors import KNeighborsClassifier"
   ]
  },
  {
   "cell_type": "code",
   "execution_count": 23,
   "id": "a18fed6d-367f-4484-ac3a-fe02d8a30b1f",
   "metadata": {},
   "outputs": [],
   "source": [
    "# Inicializar los modelos\n",
    "models = {\n",
    "    'Decision Tree': DecisionTreeClassifier(random_state=42),\n",
    "    'Random Forest': RandomForestClassifier(random_state=42),\n",
    "    'SVM': SVC(random_state=42),\n",
    "    'KNN': KNeighborsClassifier()\n",
    "}"
   ]
  },
  {
   "cell_type": "markdown",
   "id": "a1c5a383",
   "metadata": {},
   "source": [
    "## 5. Evaluación de los Modelos\n",
    "Generamos las predicciones y calculamos las métricas de evaluación para cada modelo (precisión, recall y f1-score)."
   ]
  },
  {
   "cell_type": "code",
   "execution_count": 25,
   "id": "9a011cc1-9525-4541-9f45-c5e239438c44",
   "metadata": {},
   "outputs": [
    {
     "name": "stdout",
     "output_type": "stream",
     "text": [
      "\n",
      "Informe de clasificación de Decision Tree:\n",
      "              precision    recall  f1-score   support\n",
      "\n",
      "           0       0.97      0.92      0.94        83\n",
      "           1       0.62      0.91      0.74        11\n",
      "           2       1.00      1.00      1.00       235\n",
      "           3       1.00      0.94      0.97        17\n",
      "\n",
      "    accuracy                           0.97       346\n",
      "   macro avg       0.90      0.94      0.91       346\n",
      "weighted avg       0.98      0.97      0.98       346\n",
      "\n",
      "\n",
      "Informe de clasificación de Random Forest:\n",
      "              precision    recall  f1-score   support\n",
      "\n",
      "           0       0.99      0.90      0.94        83\n",
      "           1       0.65      1.00      0.79        11\n",
      "           2       0.99      1.00      1.00       235\n",
      "           3       1.00      0.94      0.97        17\n",
      "\n",
      "    accuracy                           0.97       346\n",
      "   macro avg       0.91      0.96      0.92       346\n",
      "weighted avg       0.98      0.97      0.98       346\n",
      "\n",
      "\n",
      "Informe de clasificación de SVM:\n",
      "              precision    recall  f1-score   support\n",
      "\n",
      "           0       0.88      0.76      0.81        83\n",
      "           1       1.00      0.45      0.62        11\n",
      "           2       0.92      0.99      0.95       235\n",
      "           3       0.94      0.88      0.91        17\n",
      "\n",
      "    accuracy                           0.91       346\n",
      "   macro avg       0.93      0.77      0.83       346\n",
      "weighted avg       0.91      0.91      0.91       346\n",
      "\n",
      "\n",
      "Informe de clasificación de KNN:\n",
      "              precision    recall  f1-score   support\n",
      "\n",
      "           0       0.86      0.71      0.78        83\n",
      "           1       0.46      0.55      0.50        11\n",
      "           2       0.92      1.00      0.96       235\n",
      "           3       0.88      0.41      0.56        17\n",
      "\n",
      "    accuracy                           0.89       346\n",
      "   macro avg       0.78      0.67      0.70       346\n",
      "weighted avg       0.89      0.89      0.88       346\n",
      "\n"
     ]
    }
   ],
   "source": [
    "# Entrenar y evaluar cada modelo\n",
    "results = {}\n",
    "for name, model in models.items():\n",
    "    # Entrenar el modelo\n",
    "    model.fit(X_train, y_train)\n",
    "    \n",
    "    # Hacer predicciones\n",
    "    y_pred = model.predict(X_test)\n",
    "    \n",
    "    # Generar informe de clasificación\n",
    "    report = classification_report(y_test, y_pred)\n",
    "    results[name] = report\n",
    "    \n",
    "    print(f'\\nInforme de clasificación de {name}:')\n",
    "    print(report)"
   ]
  },
  {
   "cell_type": "code",
   "execution_count": 26,
   "id": "c6c3d852-4543-41e3-9ff3-afd076fff7e6",
   "metadata": {},
   "outputs": [
    {
     "name": "stdout",
     "output_type": "stream",
     "text": [
      "Comparación de métricas en conjunto de entrenamiento y prueba:\n"
     ]
    },
    {
     "data": {
      "text/html": [
       "<div>\n",
       "<style scoped>\n",
       "    .dataframe tbody tr th:only-of-type {\n",
       "        vertical-align: middle;\n",
       "    }\n",
       "\n",
       "    .dataframe tbody tr th {\n",
       "        vertical-align: top;\n",
       "    }\n",
       "\n",
       "    .dataframe thead th {\n",
       "        text-align: right;\n",
       "    }\n",
       "</style>\n",
       "<table border=\"1\" class=\"dataframe\">\n",
       "  <thead>\n",
       "    <tr style=\"text-align: right;\">\n",
       "      <th></th>\n",
       "      <th>precision_train</th>\n",
       "      <th>recall_train</th>\n",
       "      <th>f1-score_train</th>\n",
       "      <th>precision_test</th>\n",
       "      <th>recall_test</th>\n",
       "      <th>f1-score_test</th>\n",
       "    </tr>\n",
       "  </thead>\n",
       "  <tbody>\n",
       "    <tr>\n",
       "      <th>Decision Tree</th>\n",
       "      <td>1.000000</td>\n",
       "      <td>1.000000</td>\n",
       "      <td>1.000000</td>\n",
       "      <td>0.979049</td>\n",
       "      <td>0.973988</td>\n",
       "      <td>0.975417</td>\n",
       "    </tr>\n",
       "    <tr>\n",
       "      <th>Random Forest</th>\n",
       "      <td>1.000000</td>\n",
       "      <td>1.000000</td>\n",
       "      <td>1.000000</td>\n",
       "      <td>0.979891</td>\n",
       "      <td>0.973988</td>\n",
       "      <td>0.975242</td>\n",
       "    </tr>\n",
       "    <tr>\n",
       "      <th>SVM</th>\n",
       "      <td>0.929213</td>\n",
       "      <td>0.929088</td>\n",
       "      <td>0.924428</td>\n",
       "      <td>0.913253</td>\n",
       "      <td>0.913295</td>\n",
       "      <td>0.908111</td>\n",
       "    </tr>\n",
       "    <tr>\n",
       "      <th>KNN</th>\n",
       "      <td>0.954794</td>\n",
       "      <td>0.955137</td>\n",
       "      <td>0.953751</td>\n",
       "      <td>0.886259</td>\n",
       "      <td>0.887283</td>\n",
       "      <td>0.879778</td>\n",
       "    </tr>\n",
       "  </tbody>\n",
       "</table>\n",
       "</div>"
      ],
      "text/plain": [
       "               precision_train  recall_train  f1-score_train  precision_test  \\\n",
       "Decision Tree         1.000000      1.000000        1.000000        0.979049   \n",
       "Random Forest         1.000000      1.000000        1.000000        0.979891   \n",
       "SVM                   0.929213      0.929088        0.924428        0.913253   \n",
       "KNN                   0.954794      0.955137        0.953751        0.886259   \n",
       "\n",
       "               recall_test  f1-score_test  \n",
       "Decision Tree     0.973988       0.975417  \n",
       "Random Forest     0.973988       0.975242  \n",
       "SVM               0.913295       0.908111  \n",
       "KNN               0.887283       0.879778  "
      ]
     },
     "metadata": {},
     "output_type": "display_data"
    }
   ],
   "source": [
    "\n",
    "\n",
    "# Diccionario para almacenar las métricas de entrenamiento y prueba de cada modelo\n",
    "resultados_sobreajuste = {}\n",
    "\n",
    "# Evaluar cada modelo en ambos conjuntos y guardar los reportes\n",
    "for nombre, modelo in models.items():\n",
    "    # Evaluar en el conjunto de entrenamiento\n",
    "    y_pred_train = modelo.predict(X_train)\n",
    "    reporte_train = classification_report(y_train, y_pred_train, output_dict=True)['weighted avg']\n",
    "    \n",
    "    # Evaluar en el conjunto de prueba\n",
    "    y_pred_test = modelo.predict(X_test)\n",
    "    reporte_test = classification_report(y_test, y_pred_test, output_dict=True)['weighted avg']\n",
    "    \n",
    "    # Guardar en el diccionario\n",
    "    resultados_sobreajuste[nombre] = {\n",
    "        'precision_train': reporte_train['precision'],\n",
    "        'recall_train': reporte_train['recall'],\n",
    "        'f1-score_train': reporte_train['f1-score'],\n",
    "        'precision_test': reporte_test['precision'],\n",
    "        'recall_test': reporte_test['recall'],\n",
    "        'f1-score_test': reporte_test['f1-score']\n",
    "    }\n",
    "\n",
    "# Convertir a DataFrame para visualización\n",
    "df_sobreajuste = pd.DataFrame(resultados_sobreajuste).T\n",
    "\n",
    "# Mostrar los resultados\n",
    "print(\"Comparación de métricas en conjunto de entrenamiento y prueba:\")\n",
    "display(df_sobreajuste)\n"
   ]
  },
  {
   "cell_type": "markdown",
   "id": "b93db4b5-b90a-4016-a98c-956780e11da5",
   "metadata": {},
   "source": [
    "### Análisis de Resultados para Identificación de Sobreajuste\n",
    "**Decision Tree:**\n",
    "* Entrenamiento: Todas las métricas (precisión, recall y f1-score) son perfectas (1.000).\n",
    "* Prueba: Las métricas caen ligeramente (alrededor de 0.975), aunque siguen siendo altas.\n",
    "* Interpretación: La precisión perfecta en el entrenamiento es una señal de sobreajuste. El modelo ha aprendido muy bien los datos de entrenamiento pero pierde algo de precisión en el conjunto de prueba. Este comportamiento sugiere que el Árbol de Decisión está memorizando los datos de entrenamiento y puede no generalizar tan bien en datos nuevos.\n",
    "\n",
    "**Random Forest:** \n",
    "* Entrenamiento: También muestra métricas perfectas en el conjunto de entrenamiento.\n",
    "* Prueba: Las métricas en el conjunto de prueba son similares a las del Árbol de Decisión (alrededor de 0.975).\n",
    "* Interpretación: Aunque Random Forest presenta un rendimiento excelente en el conjunto de prueba, la precisión perfecta en el entrenamiento indica un ligero sobreajuste. Sin embargo, este sobreajuste es menos preocupante, ya que Random Forest tiende a ser más estable en generalización gracias a la combinación de múltiples árboles. Aun así, podrías considerar ajustar los hiperparámetros (como n_estimators o max_depth) para reducir el sobreajuste si fuera necesario.\n",
    "\n",
    "**SVM:** \n",
    "* Entrenamiento: Las métricas en entrenamiento están por debajo de 0.93, lo cual indica que el modelo no está ajustado al 100% a los datos de entrenamiento.\n",
    "* Prueba: Las métricas en el conjunto de prueba son similares a las del entrenamiento, con una precisión de alrededor de 0.91.\n",
    "* Interpretación: SVM no muestra señales de sobreajuste. Las métricas similares en ambos conjuntos indican que el modelo está generalizando bien sin aprender en exceso los detalles del conjunto de entrenamiento.\n",
    "\n",
    "**KNN:**\n",
    "* Entrenamiento: Las métricas son altas (alrededor de 0.95), pero no perfectas.\n",
    "* Prueba: Las métricas en el conjunto de prueba son ligeramente inferiores a las del entrenamiento, con una precisión de alrededor de 0.88.\n",
    "* Interpretación: KNN muestra un leve sobreajuste, dado que las métricas son un poco más altas en el entrenamiento que en la prueba. Esto puede deberse a que el modelo es sensible a los datos del entrenamiento, especialmente si el valor de k es bajo.\n",
    "  "
   ]
  },
  {
   "cell_type": "code",
   "execution_count": null,
   "id": "970acc96-08eb-458a-8ae2-c40f5616faad",
   "metadata": {},
   "outputs": [],
   "source": []
  },
  {
   "cell_type": "markdown",
   "id": "72d1ffe9",
   "metadata": {},
   "source": [
    "## 6. Identificación de Sobreajuste\n",
    "Para identificar si alguno de los modelos presenta sobreajuste, evaluaremos el rendimiento en ambos conjuntos de datos: entrenamiento y prueba. Compararemos las métricas de precisión, recall y f1-score. Un rendimiento mucho más alto en el conjunto de entrenamiento en comparación con el de prueba indica posible sobreajuste."
   ]
  },
  {
   "cell_type": "code",
   "execution_count": 29,
   "id": "262d540e-7ed8-4c70-8cf3-b31a8df4b46f",
   "metadata": {},
   "outputs": [
    {
     "name": "stderr",
     "output_type": "stream",
     "text": [
      "D:\\anacondaa\\Lib\\site-packages\\sklearn\\metrics\\_classification.py:1531: UndefinedMetricWarning: Precision is ill-defined and being set to 0.0 in labels with no predicted samples. Use `zero_division` parameter to control this behavior.\n",
      "  _warn_prf(average, modifier, f\"{metric.capitalize()} is\", len(result))\n",
      "D:\\anacondaa\\Lib\\site-packages\\sklearn\\metrics\\_classification.py:1531: UndefinedMetricWarning: Precision is ill-defined and being set to 0.0 in labels with no predicted samples. Use `zero_division` parameter to control this behavior.\n",
      "  _warn_prf(average, modifier, f\"{metric.capitalize()} is\", len(result))\n",
      "D:\\anacondaa\\Lib\\site-packages\\sklearn\\metrics\\_classification.py:1531: UndefinedMetricWarning: Precision is ill-defined and being set to 0.0 in labels with no predicted samples. Use `zero_division` parameter to control this behavior.\n",
      "  _warn_prf(average, modifier, f\"{metric.capitalize()} is\", len(result))\n"
     ]
    },
    {
     "data": {
      "image/png": "[encoded data removed]",
      "text/plain": [
       "<Figure size 1000x600 with 1 Axes>"
      ]
     },
     "metadata": {},
     "output_type": "display_data"
    }
   ],
   "source": [
    "from sklearn.metrics import classification_report\n",
    "import pandas as pd\n",
    "import matplotlib.pyplot as plt\n",
    "\n",
    "# Diccionario para almacenar las predicciones de cada modelo\n",
    "modelos = {\n",
    "    'Logistic Regression': y_pred_logreg, \n",
    "    'Decision Tree': y_pred_tree, \n",
    "    'KNN': y_pred_knn,\n",
    "}\n",
    "\n",
    "# Diccionario para almacenar los reportes de métricas de cada modelo\n",
    "reportes = {}\n",
    "\n",
    "# Generar el reporte de métricas para cada modelo\n",
    "for nombre, pred in modelos.items():\n",
    "    report = classification_report(y_test, pred, output_dict=True)  # Cambia y_test según tus datos\n",
    "    reportes[nombre] = report['weighted avg']  # Utiliza el promedio ponderado (weighted avg) para comparación\n",
    "\n",
    "# Convertir a DataFrame para visualización\n",
    "df_reportes = pd.DataFrame(reportes).T[['precision', 'recall', 'f1-score']]\n",
    "\n",
    "# Crear gráfico de barras para comparar las métricas de cada modelo\n",
    "df_reportes.plot(kind='bar', figsize=(10, 6))\n",
    "plt.title('Comparación de Métricas de Modelos')\n",
    "plt.xlabel('Modelos')\n",
    "plt.ylabel('Métricas')\n",
    "plt.legend(loc='lower right')\n",
    "plt.show()\n"
   ]
  },
  {
   "cell_type": "markdown",
   "id": "6b6c4271-d46e-4183-947b-581934d0a05c",
   "metadata": {},
   "source": [
    "## 7. CONCLUSIONES\n",
    "\n",
    "Basado en los resultados obtenidos, podemos concluir que:\r\n",
    "El Random Forest fue el mejor modelo, con las siguientes razones:  \r\n",
    "- Obtuvo la mejor precisión general (accuracy) 97%  \r\n",
    "- Mostró el mejor balance entre precisión y recall entre todas las clases  \r\n",
    "- Demostró ser más robusto en la clasificación de clases minoritarias  \r\n",
    "- Tuvo el mejor F1-score ponderado (weighted avg) 0.98"
   ]
  },
  {
   "cell_type": "markdown",
   "id": "149d50c9-a434-48e4-9458-0529135ff137",
   "metadata": {},
   "source": [
    "### Comparación de modelos\n",
    "\n",
    "- **Random Forest** es el modelo con el mejor rendimiento en el conjunto de prueba, con una precisión del 97.5% y un buen balance entre precisión y recall en todas las clases. Aunque muestra métricas perfectas en el conjunto de entrenamiento, lo cual sugiere un leve sobreajuste, este modelo es robusto gracias a la combinación de múltiples árboles, lo cual permite una mejor generalización en el conjunto de prueba.\n",
    "- **Árbol de Decisión** también alcanzó una alta precisión en el conjunto de prueba (97.5%), pero muestra signos de sobreajuste más claros, con métricas perfectas en el conjunto de entrenamiento. Esto indica que el modelo ha memorizado los datos de entrenamiento, lo cual podría afectar su capacidad de generalización en otros conjuntos de datos.\n",
    "- **SVM y KNN** no muestran señales de sobreajuste significativo, con métricas similares en ambos conjuntos. Aunque su precisión es menor (91% y 88% respectivamente), estos modelos tienen un rendimiento estable y generalizan bien."
   ]
  },
  {
   "cell_type": "markdown",
   "id": "e875b054-0ab7-448c-8ce4-3f17ec765989",
   "metadata": {},
   "source": [
    "Random Forest es el modelo más efectivo y balanceado, con un rendimiento excelente y un leve sobreajuste que podría ser manejado con ajustes adicionales si fuera necesario. El Átbol de Decisión presenta un sobreajuste más notable y podría beneficiarse de una reducción en su profundidad. No se considera necesario un reentrenamiento de Random Forest, pero ajustar sus hiperparámetros podría mejorar aún más su capacidad de generalización.\n",
    "\n",
    "No se considera necesario reentrenar el modelo dado que el rendimiento actual es muy bueno y las métricas de evaluación son robustas a través de todas las clases. Sin embargo, si se quisiera mejorar aún más, se podría considerar:\n",
    "\n",
    "- Ajuste fino de hiperparámetros mediante validación cruzada\n",
    "- Técnicas de balanceo de clases para mejorar el rendimiento en las clases minoritarias\n",
    "- Ingeniería de características adicional"
   ]
  },
  {
   "cell_type": "code",
   "execution_count": null,
   "id": "a1eedadb-92e0-4949-924a-9ab375908622",
   "metadata": {},
   "outputs": [],
   "source": []
  }
 ],
 "metadata": {
  "kernelspec": {
   "display_name": "Python 3 (ipykernel)",
   "language": "python",
   "name": "python3"
  },
  "language_info": {
   "codemirror_mode": {
    "name": "ipython",
    "version": 3
   },
   "file_extension": ".py",
   "mimetype": "text/x-python",
   "name": "python",
   "nbconvert_exporter": "python",
   "pygments_lexer": "ipython3",
   "version": "3.11.7"
  }
 },
 "nbformat": 4,
 "nbformat_minor": 5
}
